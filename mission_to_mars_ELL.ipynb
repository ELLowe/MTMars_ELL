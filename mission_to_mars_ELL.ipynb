{
 "cells": [
  {
   "cell_type": "code",
   "execution_count": 2,
   "metadata": {},
   "outputs": [],
   "source": [
    "from splinter import Browser\n",
    "from bs4 import BeautifulSoup as bs"
   ]
  },
  {
   "cell_type": "code",
   "execution_count": 3,
   "metadata": {},
   "outputs": [],
   "source": [
    "def init_browser():\n",
    "    # @NOTE: Replace the path with your actual path to the chromedriver\n",
    "    executable_path = {\"executable_path\": \"chromedriver.exe\"}\n",
    "    return Browser(\"chrome\", **executable_path, headless=False)"
   ]
  },
  {
   "cell_type": "code",
   "execution_count": null,
   "metadata": {},
   "outputs": [],
   "source": [
    "def scrape_news_info():\n",
    "    browser = init_browser()\n",
    "\n",
    "    url = \"https://mars.nasa.gov/news/?page=0&per_page=40&order=publish_date+desc%2Ccreated_at+desc&search=&category=19%2C165%2C184%2C204&blank_scope=Latest\"\n",
    "    browser.visit(url)\n",
    "\n",
    "    # Scrape page into Soup\n",
    "    html = browser.html\n",
    "    soup = bs(html, \"html.parser\")\n",
    "\n",
    "    # Get the news title & paragraph text\n",
    "\n",
    "    news_title_div=soup.find('div', class_=\"content_title\")\n",
    "    news_teaser_div=soup.find('div', class_=\"article_teaser_body\")\n",
    "    \n",
    "    # Get the text and store it\n",
    "    title=news_title_div.find().text\n",
    "    teaser=news_teaser_div.find().text\n",
    "\n",
    "    # Quite the browser after scraping\n",
    "    browser.quit()\n",
    "\n",
    "    # Return results\n",
    "    return title,teaser"
   ]
  },
  {
   "cell_type": "code",
   "execution_count": null,
   "metadata": {},
   "outputs": [],
   "source": [
    "def scrape_featured_image():\n",
    "    browser = init_browser()\n",
    "\n",
    "    # Visit:\n",
    "    url = \"https://www.jpl.nasa.gov\"\n",
    "    more_url = \"/spaceimages/?search=&category=Mars\"\n",
    "    browser.visit(url+more_url)\n",
    "\n",
    "    # Scrape page into Soup\n",
    "    html = browser.html\n",
    "    soup = bs(html, \"html.parser\")\n",
    "    \n",
    "    #get to the current featured image\n",
    "    browser.click_link_by_partial_text('FULL IMAGE')\n",
    "    feature_image = soup.find('img',class_=\"fancybox-image\")\n",
    "    \n",
    "    #get the image from: https://www.jpl.nasa.gov/spaceimages/images/mediumsize/PIA19092_ip.jpg\n",
    "    img_url = url+feature_image['src']\n",
    "    \n",
    "    # Quite the browser after scraping\n",
    "    browser.quit()\n",
    "\n",
    "    # Return results\n",
    "    return img_url"
   ]
  },
  {
   "cell_type": "code",
   "execution_count": null,
   "metadata": {},
   "outputs": [],
   "source": [
    "def scrape_weather_info():\n",
    "    browser = init_browser()\n",
    "\n",
    "    # Visit visitcostarica.herokuapp.com\n",
    "    url = \"https://twitter.com/marswxreport?lang=en\"\n",
    "    browser.visit(url)\n",
    "\n",
    "    # Scrape page into Soup\n",
    "    html = browser.html\n",
    "    soup = bs(html, \"html.parser\")\n",
    "\n",
    "    # Get to the temps\n",
    "#     <span class=\"css-901oao css-16my406 r-1qd0xha r-ad9z0x r-bcqeeo r-qvutc0\">@MarsWxReport</span>\n",
    "    weather_span=soup.find('span', class_=\"css-901oao css-16my406 r-1qd0xha r-ad9z0x r-bcqeeo r-qvutc0\")\n",
    "\n",
    "    # Get the tweet text\n",
    "\n",
    "    mars_weather=weather_span.find('MarsWxReport').text\n",
    "\n",
    "    # Quite the browser after scraping\n",
    "    browser.quit()\n",
    "\n",
    "    # Return results\n",
    "    return mars_weather"
   ]
  },
  {
   "cell_type": "code",
   "execution_count": null,
   "metadata": {},
   "outputs": [],
   "source": [
    "def scrape_mars_facts():\n",
    "    browser = init_browser()\n",
    "\n",
    "    # Visit visitcostarica.herokuapp.com\n",
    "    url = \"https://space-facts.com/mars/\"\n",
    "    browser.visit(url)\n",
    "\n",
    "    # Scrape page into Soup\n",
    "    html = browser.html\n",
    "    soup = bs(html, \"html.parser\")\n",
    "\n",
    "    # Get to the temps\n",
    "#     <span class=\"css-901oao css-16my406 r-1qd0xha r-ad9z0x r-bcqeeo r-qvutc0\">@MarsWxReport</span>\n",
    "    mars_facts=soup.find('table', id_=\"tablepress-p-mars\")\n",
    "\n",
    "    # Get the tweet text\n",
    "\n",
    "    facts=mars_facts.find('tbody').text\n",
    "\n",
    "    # Quite the browser after scraping\n",
    "    browser.quit()\n",
    "\n",
    "    # Return results\n",
    "    return facts"
   ]
  },
  {
   "cell_type": "code",
   "execution_count": null,
   "metadata": {},
   "outputs": [],
   "source": [
    "def scrape_full_res_images():\n",
    "    browser = init_browser()\n",
    "\n",
    "    # Visit visitcostarica.herokuapp.com\n",
    "    url = \"https://astrogeology.usgs.gov/search/results?q=hemisphere+enhanced&k1=target&v1=Mars\"\n",
    "    browser.visit(url)\n",
    "\n",
    "    # Scrape page into Soup\n",
    "    html = browser.html\n",
    "    soup = bs(html, \"html.parser\")\n",
    "    \n",
    "    #get to the current featured image\n",
    "    hemisphere_image_results = []\n",
    "    product_images = soup.find('div',class_=\"collapsible results\")\n",
    "    image_data=product_images.find('div',class_='item')\n",
    "    for item in image_data:\n",
    "        \n",
    "        hemisphere_image_title=soup.find('h3').text\n",
    "        browser.click_link_by_partial_text(f'{hemisphere_image_title}')\n",
    "        find_image = soup.find('div', class_=\"downloads\")\n",
    "        img_url = find_image.find('li')[1].find('href').text\n",
    "        hemisphere_image_results.append({'title':f'{hemisphere_image_title}','img_url':f'{img_url}'})\n",
    "    \n",
    "    # Quite the browser after scraping\n",
    "    browser.quit()\n",
    "\n",
    "    # Return results\n",
    "    return hemisphere_image_results"
   ]
  },
  {
   "cell_type": "code",
   "execution_count": null,
   "metadata": {},
   "outputs": [],
   "source": []
  },
  {
   "cell_type": "code",
   "execution_count": 9,
   "metadata": {},
   "outputs": [
    {
     "name": "stdout",
     "output_type": "stream",
     "text": [
      "[]\n"
     ]
    }
   ],
   "source": [
    "browser = init_browser()\n",
    "\n",
    "# Visit:\n",
    "url = \"https://www.jpl.nasa.gov\"\n",
    "more_url = \"/spaceimages/?search=&category=Mars\"\n",
    "browser.visit(url+more_url)\n",
    "\n",
    "# Scrape page into Soup\n",
    "html = browser.html\n",
    "soup = bs(html, \"html.parser\")\n",
    "\n",
    "#get to the current featured image\n",
    "browser.click_link_by_partial_text('FULL IMAGE')\n",
    "image_html = browser.html\n",
    "image_soup = bs(image_html, \"html.parser\")\n",
    "feature_image = image_soup.find_all('img', class_=\"fancybox-image\")\n",
    "\n",
    "print(feature_image)\n",
    "    \n",
    "    #get the image from: https://www.jpl.nasa.gov/spaceimages/images/mediumsize/PIA19092_ip.jpg\n",
    "#     img_url = url+feature_image['src']"
   ]
  },
  {
   "cell_type": "code",
   "execution_count": 6,
   "metadata": {},
   "outputs": [
    {
     "name": "stdout",
     "output_type": "stream",
     "text": [
      "None\n"
     ]
    }
   ],
   "source": [
    "print(feature_image)"
   ]
  },
  {
   "cell_type": "code",
   "execution_count": null,
   "metadata": {},
   "outputs": [],
   "source": []
  },
  {
   "cell_type": "code",
   "execution_count": null,
   "metadata": {},
   "outputs": [],
   "source": []
  },
  {
   "cell_type": "code",
   "execution_count": null,
   "metadata": {},
   "outputs": [],
   "source": []
  },
  {
   "cell_type": "code",
   "execution_count": null,
   "metadata": {},
   "outputs": [],
   "source": []
  },
  {
   "cell_type": "code",
   "execution_count": null,
   "metadata": {},
   "outputs": [],
   "source": []
  },
  {
   "cell_type": "code",
   "execution_count": null,
   "metadata": {},
   "outputs": [],
   "source": []
  }
 ],
 "metadata": {
  "kernelspec": {
   "display_name": "Python 3",
   "language": "python",
   "name": "python3"
  },
  "language_info": {
   "codemirror_mode": {
    "name": "ipython",
    "version": 3
   },
   "file_extension": ".py",
   "mimetype": "text/x-python",
   "name": "python",
   "nbconvert_exporter": "python",
   "pygments_lexer": "ipython3",
   "version": "3.7.1"
  }
 },
 "nbformat": 4,
 "nbformat_minor": 2
}
